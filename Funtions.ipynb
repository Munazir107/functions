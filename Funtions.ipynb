{
  "nbformat": 4,
  "nbformat_minor": 0,
  "metadata": {
    "colab": {
      "provenance": []
    },
    "kernelspec": {
      "name": "python3",
      "display_name": "Python 3"
    },
    "language_info": {
      "name": "python"
    }
  },
  "cells": [
    {
      "cell_type": "markdown",
      "source": [
        "#Theory Questions:"
      ],
      "metadata": {
        "id": "kYpMxvxKebej"
      }
    },
    {
      "cell_type": "markdown",
      "source": [
        "Q1. What is the deffernce between a funtions and a method in python ?\n",
        "\n",
        "->.Funtions is a block of code that performs a specific task\n",
        "  Independent(not tied to any object) funtions call style like funtion_name()\n",
        "  Exmple :- len[(1,2,3,)]-> built in funtion\n",
        "  .Method is a funtions that is associated with any object belong to any object usally a class instance  call style :- object.method_name()\n",
        "  Example :- \"hello Munazir\".upper() string method\n",
        "\n",
        "  Example:----  "
      ],
      "metadata": {
        "id": "eOzJCnwPd6-Z"
      }
    },
    {
      "cell_type": "code",
      "source": [
        "#funtions\n",
        "def greet(name):\n",
        "  return f\"hello, {name}!\"\n",
        "  print(greet(munazir))\n",
        "\n",
        "#Method\n",
        "text = \"hello python\"\n",
        "print(text.upper())"
      ],
      "metadata": {
        "colab": {
          "base_uri": "https://localhost:8080/"
        },
        "id": "3k6gFZy5g7BO",
        "outputId": "e584289c-5ce7-4020-9400-2f001f7dfde6"
      },
      "execution_count": null,
      "outputs": [
        {
          "output_type": "stream",
          "name": "stdout",
          "text": [
            "HELLO PYTHON\n"
          ]
        }
      ]
    },
    {
      "cell_type": "markdown",
      "source": [
        "Q2. Explain the concept of function arguments and parameters in python??\n",
        "\n",
        "-->parameter a varible listed inside the parametoreses in a functions definiction\n",
        "argument the actule value you pass into the function when you calling it\n",
        "parametor is a placeholders\n",
        "arguments are the real data you plug in.\n",
        "Example:-"
      ],
      "metadata": {
        "id": "XUhwUgBbiHHX"
      }
    },
    {
      "cell_type": "code",
      "source": [
        "def greet(name):\n",
        "  print(f\"hello, {name}!\")\n",
        "greet(\"khanji\")\n",
        "#name is a parameter in the function difinition\n",
        "# \"Munazir\" is the argument passed when you calling the function"
      ],
      "metadata": {
        "colab": {
          "base_uri": "https://localhost:8080/"
        },
        "id": "CvADSxduoWk6",
        "outputId": "4261b905-84ec-4737-fcd1-efc85ac5383e"
      },
      "execution_count": null,
      "outputs": [
        {
          "output_type": "stream",
          "name": "stdout",
          "text": [
            "hello, khanji!\n"
          ]
        }
      ]
    },
    {
      "cell_type": "markdown",
      "source": [],
      "metadata": {
        "id": "67mjcZ9Npbtz"
      }
    },
    {
      "cell_type": "markdown",
      "source": [
        "Q3. What are the defferent way to difine and call a function in python?\n",
        "\n",
        "-->Many type defien a funtion in python\n",
        "standard function definition , Function with deferent argument, function with varibal-lanth argument , function with key argument, Lamda function, nested function\n"
      ],
      "metadata": {
        "id": "Oe3iAvQMeT1V"
      }
    },
    {
      "cell_type": "code",
      "source": [
        "#function with deferent argument.\n",
        "def greet(name):\n",
        "  return f\"hello, {name}!\"\n",
        "\n",
        "  #function with deferent argument.\n",
        "def greet(name=\"munazir\"):\n",
        "    return f\"hello, {name}\"\n",
        "\n",
        "    #fuction with varibal-langth argument.\n",
        "    def add_all(*numbers):\n",
        "      return sum(numbers)\n",
        "\n",
        "  #Function with key argument.\n",
        "    def describe_persion(name, age **details):\n",
        "      return f\"{name}is {age}year old. detaild:{details}\"\n",
        "\n",
        "  #lambda Function.\n",
        "      square = lambda x: x * x\n",
        "\n",
        "  #Nested Function.\n",
        "      def outer():\n",
        "        def inner():\n",
        "          return \"inner function\"\n",
        "          return inner()\n",
        "\n",
        "\n",
        "\n"
      ],
      "metadata": {
        "colab": {
          "base_uri": "https://localhost:8080/",
          "height": 106
        },
        "collapsed": true,
        "id": "K_jKJeB8gIHn",
        "outputId": "78801970-d66b-4a24-f253-b8ed978d6762"
      },
      "execution_count": null,
      "outputs": [
        {
          "output_type": "error",
          "ename": "SyntaxError",
          "evalue": "invalid syntax (ipython-input-3042095566.py, line 14)",
          "traceback": [
            "\u001b[0;36m  File \u001b[0;32m\"/tmp/ipython-input-3042095566.py\"\u001b[0;36m, line \u001b[0;32m14\u001b[0m\n\u001b[0;31m    def describe_persion(name, age **details):\u001b[0m\n\u001b[0m                                   ^\u001b[0m\n\u001b[0;31mSyntaxError\u001b[0m\u001b[0;31m:\u001b[0m invalid syntax\n"
          ]
        }
      ]
    },
    {
      "cell_type": "markdown",
      "source": [
        "Q4. What is the purpose of the 'return statement' in a python function.\n",
        "\n",
        "--> purpose of the return statement sand output back, it gives the back value from the function to the caller.\n",
        "end the function early. once retrun hit,the function stop immedetly -even if there more code after it,\n",
        "pass data between function. can move use return one function to another function.\n",
        "control flow in large programs its help structure logic programs by latting function act like resuble tool to give back result.\n"
      ],
      "metadata": {
        "id": "79r8PfpLkJHF"
      }
    },
    {
      "cell_type": "code",
      "source": [
        "#example...\n",
        "\n",
        "def add(a, b ):\n",
        "    return a + b\n",
        "    result = add(4, 4)\n",
        "\n",
        "\n",
        "#end the function early\n",
        "def check_number(n):\n",
        "  if n  > 0:\n",
        "    return \"positive\"\n",
        "    return \"not positive\"\n",
        "#pass data between function.\n",
        "def get_name():\n",
        "  return \"munazir\"\n",
        "\n",
        "def greet():\n",
        "  name = get_name()\n",
        "  return f\"hello, {name}!\"\n"
      ],
      "metadata": {
        "id": "sfpiVo70nHZ7"
      },
      "execution_count": null,
      "outputs": []
    },
    {
      "cell_type": "markdown",
      "source": [
        "Q5. What are iteraters un python and how to thy deffer from itrables.?\n",
        "\n",
        "\n",
        "--> An iterables are any pythone object can be looped over (i.e usef in for loop)it has an internal methord called --iter--()that return an iterator.\n",
        "An iteraters is an object that produse the next value in a sequence when you call next () on it. it remember its position and knows how to fitch the next item. to be irtetor and boject must implement.\n",
        "Example:\n"
      ],
      "metadata": {
        "id": "kpBCBn_xo9aP"
      }
    },
    {
      "cell_type": "code",
      "source": [
        "#example...\n",
        "my_list = [1,2,3,4,5,6,]\n",
        "it = iter(my_list)\n",
        "print(next(it))\n",
        "print(next(it))\n",
        "print(next(it))\n",
        "print(next(it))\n",
        "print(next(it))\n"
      ],
      "metadata": {
        "colab": {
          "base_uri": "https://localhost:8080/"
        },
        "id": "etHHltgYrXPI",
        "outputId": "4c328dde-8cf2-42a3-ce72-796a0c3ac0b6"
      },
      "execution_count": null,
      "outputs": [
        {
          "output_type": "stream",
          "name": "stdout",
          "text": [
            "1\n",
            "2\n",
            "3\n",
            "4\n",
            "5\n"
          ]
        }
      ]
    },
    {
      "cell_type": "markdown",
      "source": [
        "Q6. Explane the concept of genretor in python and how thy are defind?\n",
        "\n",
        "\n",
        "-->A genretor is a spacle type of function that yeald values one at a time , instend of returing them all at once it remember state between calls so it can resume right where it left off.\n",
        "key defferent from regular function\n",
        "regular function used return-> thy atop and give back value\n",
        "Genretor use yield-> that paused and  can continue later.\n",
        "\n",
        "Example...."
      ],
      "metadata": {
        "id": "Lvs6YJLRscNo"
      }
    },
    {
      "cell_type": "code",
      "source": [
        "#Example..\n",
        "def count_up_to(max):\n",
        "  count = 1\n",
        "  while count <= max:\n",
        "    yield count\n",
        "    count += 1"
      ],
      "metadata": {
        "id": "xOJ4OEXTuoQq"
      },
      "execution_count": null,
      "outputs": []
    },
    {
      "cell_type": "markdown",
      "source": [
        "Q7. What are the advantage of using genrator over regular function?\n",
        "\n",
        "--> Advanteg of Generators in python\n",
        "1. Memory Efficiency\n",
        "regular function that return list store all values in memory .\n",
        "genertors yield one a value at a time so thy dont need to store the entire sequence\n",
        "Example; reading a huge file line by line using a genrators avoide loding the\n",
        "whole file into RAM\n"
      ],
      "metadata": {
        "id": "B5UkcEZdvMSE"
      }
    },
    {
      "cell_type": "code",
      "source": [
        "#Example\n",
        "def even_numbers(n):\n",
        "  for i in range(n):\n",
        "    if i % 2 == 0:\n",
        "      yield i"
      ],
      "metadata": {
        "id": "Ugp3QDXzxWye"
      },
      "execution_count": null,
      "outputs": []
    },
    {
      "cell_type": "markdown",
      "source": [
        "Q8. What is a labmda function in python whene it is typically used ?\n",
        "-->A Lamda function a small, anymous funtion defind using the lambda keyword it used when you quck throwaway function specally for short tasks.\n",
        "lambda arguments: expression\n",
        "it return the result expression automatically -no need for return.\n"
      ],
      "metadata": {
        "id": "ZaJb2R5SxxKh"
      }
    },
    {
      "cell_type": "code",
      "source": [
        "#Example\n",
        "add = lambda x, y: x + y\n",
        "print(add(3, 5))\n"
      ],
      "metadata": {
        "colab": {
          "base_uri": "https://localhost:8080/"
        },
        "id": "7WAcQPpRze-j",
        "outputId": "00c163ff-7400-47b0-a5c7-92bbffcee004"
      },
      "execution_count": null,
      "outputs": [
        {
          "output_type": "stream",
          "name": "stdout",
          "text": [
            "8\n"
          ]
        }
      ]
    },
    {
      "cell_type": "markdown",
      "source": [
        "Q9. Write a python program that used Mape()to cover a liste of temprutures from ceisius to fahrenheit ?\n",
        "\n",
        "-->Python programs celcius to fahrenheit using mape()"
      ],
      "metadata": {
        "id": "7-mVfX5Ez7W_"
      }
    },
    {
      "cell_type": "code",
      "execution_count": null,
      "metadata": {
        "id": "rs59kpbXdwyl",
        "colab": {
          "base_uri": "https://localhost:8080/"
        },
        "outputId": "7e19028b-ef52-4e41-a122-a77a454b8c08"
      },
      "outputs": [
        {
          "output_type": "stream",
          "name": "stdout",
          "text": [
            "celcius: [0, 10, 20, 30, 40]\n",
            "fahrenheit: [32.0, 43.25, 54.5, 65.75, 77.0]\n"
          ]
        }
      ],
      "source": [
        "#Example --\n",
        "def celcius_to_fahrenheit(celcius):\n",
        "    return (celcius* 9/8) + 32\n",
        "celcius_temperatures = [0, 10, 20, 30, 40]\n",
        "fahrenheit_temperatures = list(map(celcius_to_fahrenheit, celcius_temperatures))\n",
        "\n",
        "print(\"celcius:\", celcius_temperatures)\n",
        "print(\"fahrenheit:\",fahrenheit_temperatures )\n"
      ]
    },
    {
      "cell_type": "markdown",
      "source": [
        "Q10. What is the defference between mape(), reduce(), and filter Function in pythin??\n",
        "\n",
        "--> Mape() , reduce() and filter() are powerful tool in python for ptocising data specilly in functinoal programs\n",
        "\n",
        "mape()- Transforms each item in a sequence\n",
        "\n",
        "filter()- select item thet meet a condition\n",
        "\n",
        "redu()- combinces item into singe value\n",
        "\n",
        "lest some Example...\n"
      ],
      "metadata": {
        "id": "C24c7jWX6Mxw"
      }
    },
    {
      "cell_type": "code",
      "source": [
        "#map()\n",
        "number = [10,20, 30, 40]\n",
        "squard = list(map(lambda x: x**20, number))\n",
        "print(squard)\n",
        "\n",
        "\n",
        "#filter()\n",
        "number = [10, 20, 30, 40]\n",
        "even = list(filter(lambda x: x % 20 == 0, number))\n",
        "print(even)\n",
        "\n",
        "#reduce\n",
        "from functools import reduce\n",
        "\n",
        "numbers = [10, 20, 30, 40]\n",
        "product = reduce (lambda x, y: x * y, number)\n",
        "print(product)"
      ],
      "metadata": {
        "colab": {
          "base_uri": "https://localhost:8080/"
        },
        "id": "Rb2KmA1DALzS",
        "outputId": "288536ea-3a3f-4b5a-c681-aa1be3308558"
      },
      "execution_count": null,
      "outputs": [
        {
          "output_type": "stream",
          "name": "stdout",
          "text": [
            "[100000000000000000000, 104857600000000000000000000, 348678440100000000000000000000, 109951162777600000000000000000000]\n",
            "[20, 40]\n",
            "240000\n"
          ]
        }
      ]
    },
    {
      "cell_type": "markdown",
      "source": [
        "Q11. Using pain & paper write the internal mechanism for sum opration using reduce function on this given  list:[47, 12, 42, 13]\n",
        "\n",
        "-->Here is image\n",
        "![Q.11 anus.jpg](data:image/jpeg;base64,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)"
      ],
      "metadata": {
        "id": "mUuHDZdy6MVe"
      }
    },
    {
      "cell_type": "markdown",
      "source": [
        "# Practial Quations:"
      ],
      "metadata": {
        "id": "1G1uhG5i6MBZ"
      }
    },
    {
      "cell_type": "markdown",
      "source": [
        "Q.1 Write a python function that takes a list of numbers as nput and return the sum of all even numbers in the list.?\n",
        "--> Explen..."
      ],
      "metadata": {
        "id": "vKqOnB8f6L87"
      }
    },
    {
      "cell_type": "code",
      "source": [
        "def sum_even_numbers(numbers):\n",
        "    even_sum = 0\n",
        "    for num in numbers:\n",
        "        if num % 2 == 0:\n",
        "            even_sum += num\n",
        "    return even_sum\n",
        "\n",
        "my_list = [47, 11, 42, 13, 8, 4]\n",
        "result = sum_even_numbers(my_list)\n",
        "print(\"Sum of even numbers:\", result)"
      ],
      "metadata": {
        "colab": {
          "base_uri": "https://localhost:8080/"
        },
        "id": "Vnhk0rkKYUkB",
        "outputId": "6d92dbd6-318f-4953-9670-505fb74ced9d"
      },
      "execution_count": 26,
      "outputs": [
        {
          "output_type": "stream",
          "name": "stdout",
          "text": [
            "Sum of even numbers: 54\n"
          ]
        }
      ]
    },
    {
      "cell_type": "markdown",
      "source": [
        "Q.2 Create a Python function that accepts a string and returns the reverse of that string."
      ],
      "metadata": {
        "id": "xIYHptQN6L6v"
      }
    },
    {
      "cell_type": "code",
      "source": [
        "def reverse_string(text):\n",
        "    return text[::-1]\n",
        "    input_str = \"Python\"\n",
        "reversed_str = reverse_string(input_str)\n",
        "print(\"Reversed string:\", reversed_str)  # Output: nohtyP"
      ],
      "metadata": {
        "colab": {
          "base_uri": "https://localhost:8080/"
        },
        "id": "HuQfPJvVaqte",
        "outputId": "77ac7038-ec2b-4ec2-bf8a-d5c26473a111"
      },
      "execution_count": 27,
      "outputs": [
        {
          "output_type": "stream",
          "name": "stdout",
          "text": [
            "Reversed string: rizanum eman eym ih\n"
          ]
        }
      ]
    },
    {
      "cell_type": "markdown",
      "source": [
        "Q.3 Implement a Python function that takes a list of integers and returns a new list containing the squares of\n",
        "each number."
      ],
      "metadata": {
        "id": "r4CDuS7D6L4N"
      }
    },
    {
      "cell_type": "code",
      "source": [
        "def square_numbers(numbers):\n",
        "    squared_list = []\n",
        "    for num in numbers:\n",
        "        squared_list.append(num ** 2)\n",
        "    return squared_list\n",
        "    my_list = [1, 2, 3, 4, 5]\n",
        "result = square_numbers(my_list)\n",
        "print(\"Squared list:\", result)  # Output: [1, 4, 9, 16, 25]"
      ],
      "metadata": {
        "colab": {
          "base_uri": "https://localhost:8080/"
        },
        "id": "VGXQEJDvbDV8",
        "outputId": "3067ec68-0fb8-453e-d944-e22ec508b3d2"
      },
      "execution_count": 28,
      "outputs": [
        {
          "output_type": "stream",
          "name": "stdout",
          "text": [
            "Squared list: [2209, 121, 1764, 169, 64, 16]\n"
          ]
        }
      ]
    },
    {
      "cell_type": "markdown",
      "source": [
        "Q.4  Write a Python function that checks if a given number is prime or not from 1 to 200."
      ],
      "metadata": {
        "id": "kN6rgRp26Lzw"
      }
    },
    {
      "cell_type": "code",
      "source": [
        "def is_prime(n):\n",
        "    if n < 2 or n > 200:\n",
        "        return False  # Outside valid range\n",
        "    for i in range(2, int(n ** 0.5) + 1):\n",
        "        if n % i == 0:\n",
        "            return False\n",
        "    return True\n",
        "    for num in range(1, 201):\n",
        "      if is_prime(num):\n",
        "        print(num, \"is a prime number\")"
      ],
      "metadata": {
        "id": "ekl1G42NbQlw"
      },
      "execution_count": 30,
      "outputs": []
    },
    {
      "cell_type": "markdown",
      "source": [
        "Q,5  Create an iterator class in Python that generates the Fibonacci sequence up to a specified number of\n",
        "terms."
      ],
      "metadata": {
        "id": "HHzFknSA6Lwn"
      }
    },
    {
      "cell_type": "code",
      "source": [
        "class FibonacciIterator:\n",
        "    def __init__(self, max_terms):\n",
        "        self.max_terms = max_terms\n",
        "        self.count = 0\n",
        "        self.a = 0\n",
        "        self.b = 1\n",
        "\n",
        "    def __iter__(self):\n",
        "        return self\n",
        "\n",
        "    def __next__(self):\n",
        "        if self.count >= self.max_terms:\n",
        "            raise StopIteration\n",
        "        if self.count == 0:\n",
        "            self.count += 1\n",
        "            return self.a\n",
        "        elif self.count == 1:\n",
        "            self.count += 1\n",
        "            return self.b\n",
        "        else:\n",
        "            self.a, self.b = self.b, self.a + self.b\n",
        "            self.count += 1\n",
        "            return self.b\n",
        "\n",
        "fib = FibonacciIterator(10)\n",
        "for num in fib:\n",
        "    print(num, end=' ')"
      ],
      "metadata": {
        "colab": {
          "base_uri": "https://localhost:8080/"
        },
        "id": "o12_x067bfyP",
        "outputId": "092c2400-ee49-47b9-f731-fd6ffdb7df51"
      },
      "execution_count": 32,
      "outputs": [
        {
          "output_type": "stream",
          "name": "stdout",
          "text": [
            "0 1 1 2 3 5 8 13 21 34 "
          ]
        }
      ]
    },
    {
      "cell_type": "markdown",
      "source": [
        "Q.6 Write a generator function in Python that yields the powers of 2 up to a given exponent."
      ],
      "metadata": {
        "id": "vw943tez6LuU"
      }
    },
    {
      "cell_type": "code",
      "source": [
        "def powers_of_two(max_exponent):\n",
        "  \"\"\"\n",
        "  Generates powers of 2 up to a specified maximum exponent.\n",
        "\n",
        "  Args:\n",
        "    max_exponent: The maximum exponent for the powers of 2.\n",
        "\n",
        "  Yields:\n",
        "    The next power of 2.\n",
        "  \"\"\"\n",
        "  for i in range(max_exponent + 1):\n",
        "    yield 2 ** i\n",
        "\n",
        "# Example usage:\n",
        "for power in powers_of_two(5):\n",
        "  print(power)"
      ],
      "metadata": {
        "colab": {
          "base_uri": "https://localhost:8080/"
        },
        "id": "GK9iA4wpb1mf",
        "outputId": "1f622132-3c3e-4bcb-fc40-fd63af9ead42"
      },
      "execution_count": 34,
      "outputs": [
        {
          "output_type": "stream",
          "name": "stdout",
          "text": [
            "1\n",
            "2\n",
            "4\n",
            "8\n",
            "16\n",
            "32\n"
          ]
        }
      ]
    },
    {
      "cell_type": "markdown",
      "source": [
        "Q.7 Implement a generator function that reads a file line by line and yields each line as a string."
      ],
      "metadata": {
        "id": "hcHla7-D6Lrg"
      }
    },
    {
      "cell_type": "code",
      "source": [
        "def read_file_line_by_line(file_path):\n",
        "  \"\"\"\n",
        "  Reads a file line by line and yields each line as a string.\n",
        "\n",
        "  Args:\n",
        "    file_path: The path to the file to read.\n",
        "\n",
        "  Yields:\n",
        "    Each line of the file as a string.\n",
        "  \"\"\"\n",
        "  with open(file_path, 'r') as f:\n",
        "    for line in f:\n",
        "      yield line.strip() # .strip() removes leading/trailing whitespace and newlines\n",
        "\n",
        "# Create a dummy file for demonstration\n",
        "with open(\"dummy_file.txt\", \"w\") as f:\n",
        "    f.write(\"This is the first line.\\n\")\n",
        "    f.write(\"This is the second line.\\n\")\n",
        "    f.write(\"And this is the third line.\")\n",
        "\n",
        "# Example usage:\n",
        "for line in read_file_line_by_line(\"dummy_file.txt\"):\n",
        "  print(line)"
      ],
      "metadata": {
        "colab": {
          "base_uri": "https://localhost:8080/"
        },
        "id": "fAk77hW6cXU0",
        "outputId": "28e5131c-04bf-412e-fb17-27a3226a51ad"
      },
      "execution_count": 35,
      "outputs": [
        {
          "output_type": "stream",
          "name": "stdout",
          "text": [
            "This is the first line.\n",
            "This is the second line.\n",
            "And this is the third line.\n"
          ]
        }
      ]
    },
    {
      "cell_type": "markdown",
      "source": [
        "Q.8  Use a lambda function in Python to sort a list of tuples based on the second element of each tuple."
      ],
      "metadata": {
        "id": "f3LKzZ3r6Lni"
      }
    },
    {
      "cell_type": "code",
      "source": [
        "data = [(1, 'b'), (3, 'd'), (2, 'a'), (4, 'c')]\n",
        "\n",
        "# Sort the list of tuples based on the second element using a lambda function\n",
        "sorted_data = sorted(data, key=lambda item: item[1])\n",
        "\n",
        "print(sorted_data)"
      ],
      "metadata": {
        "colab": {
          "base_uri": "https://localhost:8080/"
        },
        "id": "wwS7K7AjcpDv",
        "outputId": "e14283a7-9865-425e-bdb5-9f004648915b"
      },
      "execution_count": 36,
      "outputs": [
        {
          "output_type": "stream",
          "name": "stdout",
          "text": [
            "[(2, 'a'), (1, 'b'), (4, 'c'), (3, 'd')]\n"
          ]
        }
      ]
    },
    {
      "cell_type": "markdown",
      "source": [
        "Q.9  Write a Python program that uses `map()` to convert a list of temperatures from Celsius to Fahrenheit."
      ],
      "metadata": {
        "id": "7LNzFHi36Ljq"
      }
    },
    {
      "cell_type": "code",
      "source": [
        "def celsius_to_fahrenheit(celsius):\n",
        "  return (celsius * 9/5) + 32\n",
        "\n",
        "celsius_temperatures = [0, 10, 20, 30, 40]\n",
        "fahrenheit_temperatures = list(map(celsius_to_fahrenheit, celsius_temperatures))\n",
        "\n",
        "print(\"Celsius:\", celsius_temperatures)\n",
        "print(\"Fahrenheit:\", fahrenheit_temperatures)"
      ],
      "metadata": {
        "colab": {
          "base_uri": "https://localhost:8080/"
        },
        "id": "SM6wNFaQcznZ",
        "outputId": "69b89bed-55fb-4510-9825-b30a8619a3e6"
      },
      "execution_count": 37,
      "outputs": [
        {
          "output_type": "stream",
          "name": "stdout",
          "text": [
            "Celsius: [0, 10, 20, 30, 40]\n",
            "Fahrenheit: [32.0, 50.0, 68.0, 86.0, 104.0]\n"
          ]
        }
      ]
    },
    {
      "cell_type": "markdown",
      "source": [
        "Q10. Create a python program that using filter () to removed all the vowels from a given string?\n",
        "\n",
        "--> Creating a program using filter function().."
      ],
      "metadata": {
        "id": "OY-dvwH3xp-R"
      }
    },
    {
      "cell_type": "code",
      "source": [
        "input_str = \"hi mye name munazir\"\n",
        "def is_not_vowel(char):\n",
        "    return char.lower()\n",
        "filtered_chars = filter(is_not_vowel, input_str)\n",
        "result = ''.join(filtered_chars)\n",
        "print('orgenal', input_str)\n",
        "print('without vowels', result)"
      ],
      "metadata": {
        "colab": {
          "base_uri": "https://localhost:8080/"
        },
        "id": "rKO7qHtI4Qi3",
        "outputId": "8728f0f8-b1b7-4ff4-da35-04f003865c2e"
      },
      "execution_count": null,
      "outputs": [
        {
          "output_type": "stream",
          "name": "stdout",
          "text": [
            "orgenal hi mye name munazir\n",
            "without vowels hi mye name munazir\n"
          ]
        }
      ]
    },
    {
      "cell_type": "markdown",
      "source": [
        "Q11. imagine an accounting routine used in a book shop it works on a list of sublists , witch look like this\n",
        "\n",
        " order number  book titel and author     quantity price per item     \n",
        "    34587, \"learning python \", \"mark lutz\", 4, 40.95\n",
        "    98762, \"Programming Python\", \"Mark Lutz\", 5, 56.80\n",
        "    77226, \"Head First Python\", \"Paul Barry\", 3, 32.95\n",
        "    88112, \"Einführung in Python 3\", \"Bernd Klein\", 3, 24.99\n",
        "\n",
        "---> here is ..    \n"
      ],
      "metadata": {
        "id": "dm9jTd4A25Kq"
      }
    },
    {
      "cell_type": "code",
      "source": [
        "#example...\n",
        "orders = [\n",
        "    [34587, \"learning python \", \"mark lutz\", 4, 40.95],\n",
        "    [98762, \"Programming Python\", \"Mark Lutz\", 5, 56.80],\n",
        "    [77226, \"Head First Python\", \"Paul Barry\", 3, 32.95],\n",
        "    [88112, \"Einführung in Python 3\", \"Bernd Klein\", 3, 24.99]\n",
        "\n",
        "]\n",
        "def calculate_total(orders):\n",
        "    quantity = orders[3]\n",
        "    price = orders[4]\n",
        "    return quantity * price\n",
        "\n",
        "totals = list(map(calculate_total, orders))\n",
        "\n",
        "for i in range(len(orders)):\n",
        "    order_num = orders[i][0]\n",
        "    title = orders[i][1]\n",
        "    author = orders[i][2]\n",
        "    total = totals[i]\n",
        "    print(f\"Order #{order_num}: '{title}' by {author} — ₹{total:.2f}\")\n"
      ],
      "metadata": {
        "colab": {
          "base_uri": "https://localhost:8080/"
        },
        "id": "8Vl7IMLS0ofb",
        "outputId": "7336d807-4ab6-4d5a-f03a-bb88c3f7af12"
      },
      "execution_count": null,
      "outputs": [
        {
          "output_type": "stream",
          "name": "stdout",
          "text": [
            "Order #34587: 'learning python ' by mark lutz — ₹163.80\n",
            "Order #98762: 'Programming Python' by Mark Lutz — ₹284.00\n",
            "Order #77226: 'Head First Python' by Paul Barry — ₹98.85\n",
            "Order #88112: 'Einführung in Python 3' by Bernd Klein — ₹74.97\n"
          ]
        }
      ]
    },
    {
      "cell_type": "markdown",
      "source": [
        "# Thanks.."
      ],
      "metadata": {
        "id": "lxHWs3s9dDF7"
      }
    }
  ]
}